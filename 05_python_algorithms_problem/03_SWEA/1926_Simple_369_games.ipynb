{
 "cells": [
  {
   "cell_type": "code",
   "execution_count": 20,
   "id": "d357b273",
   "metadata": {},
   "outputs": [
    {
     "name": "stdout",
     "output_type": "stream",
     "text": [
      "100\n",
      "1 2 - 4 5 - 7 8 - 10 11 12 - 14 15 - 17 18 - 20 21 22 - 24 25 - 27 28 - - - - -- - - -- - - -- 40 41 42 - 44 45 - 47 48 - 50 51 52 - 54 55 - 57 58 - - - - -- - - -- - - -- 70 71 72 - 74 75 - 77 78 - 80 81 82 - 84 85 - 87 88 - - - - -- - - -- - - -- 100 "
     ]
    }
   ],
   "source": [
    "# import sys\n",
    "# sys.stdin = open('1926_input.txt')\n",
    "\n",
    "T = int(input())  # 숫자를 입력받기 위해 int()함수를 쓴다.\n",
    "\n",
    "for ints in range(1, T+1):  # 1 ~ 100\n",
    "\n",
    "    ints = str(ints)  # count를 하기 위해서 숫자를 문자열로 변환\n",
    "    clap = ints.count('3') + ints.count('6') + ints.count('9')  # '3'이나 '6'이나 '9'가 나오면 clap에 count\n",
    "    if clap == 0:  # clap에  count한 갯수가 0이면\n",
    "        print(ints, end=' ')  # 숫자를 출력\n",
    "    else:  # clap에  count한 갯수가 0이 아니라면\n",
    "        print('-' * clap, end=' ')  # clap 갯수만큼 '-'를 출력"
   ]
  }
 ],
 "metadata": {
  "kernelspec": {
   "display_name": "Python 3",
   "language": "python",
   "name": "python3"
  },
  "language_info": {
   "codemirror_mode": {
    "name": "ipython",
    "version": 3
   },
   "file_extension": ".py",
   "mimetype": "text/x-python",
   "name": "python",
   "nbconvert_exporter": "python",
   "pygments_lexer": "ipython3",
   "version": "3.10.9 (tags/v3.10.9:1dd9be6, Dec  6 2022, 20:01:21) [MSC v.1934 64 bit (AMD64)]"
  },
  "vscode": {
   "interpreter": {
    "hash": "fd2299082bc6ad9e37e72d513e7899fe0c7987f486a820f7640b2a5199c1a5d5"
   }
  }
 },
 "nbformat": 4,
 "nbformat_minor": 5
}
